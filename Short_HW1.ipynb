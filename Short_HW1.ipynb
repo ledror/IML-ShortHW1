{
 "cells": [
  {
   "attachments": {},
   "cell_type": "markdown",
   "metadata": {
    "id": "uLW7BK5P2aom"
   },
   "source": [
    "ID - 213871668\n",
    "\n",
    "# Short HW1 - Preparing for the course\n",
    "### Useful python libraries, Probability, and Linear algebera\n",
    "\n",
    "## Instructions\n",
    "\n",
    "### General\n",
    "\n",
    "*   **First, don't panic!**\n",
    "    * This assignment seems longer than it actually is.\n",
    "    * In the first part, you are mostly required to run *existing* code and complete short python commands here and there. \n",
    "    * In the two other parts you need to answer overall 4 analytic questions.\n",
    "    * **Note**: The other 4 *short* assignments will be shorter and will *not* require programming.\n",
    "\n",
    "*   **Individually or in pairs?** Individually only.\n",
    "*   **Where to ask?** In the [Piazza forum](http://piazza.com/technion.ac.il/spring2023/236756).\n",
    "*   **How to submit?** In the webcourse. \n",
    "*   **What to submit?** A pdf file with the completed jupyter notebook (including the code, plots and other outputs) and the answers to the probability/algebra questions (Hebrew or English are both fine).  \n",
    "Or two separate pdf files in a zip file. All submitted files should contain **your ID number** in their names.\n",
    "*   **When to submit?** Tuesday 04.04.2023 at 23:59.\n",
    "\n",
    "### Specific\n",
    "\n",
    "*  First part: get familiar with popular python libraries useful for machine learning and data science. We will use these libraries heavily throughout the major programming assignments.\n",
    "   *  You should read the instructions and run the code blocks sequentially.  \n",
    "   In $10$ places you are reqired to complete missing python commands or answer short questions (look for the **TODO** comments, or notations like **(T3)** etc.). Try to understand the flow of this document and the code you run.\n",
    "   * Start by loading the provided jupyter notebook file (*Short_HW1.ipynb*) to [Google Colab](https://colab.research.google.com/), which is a very convenient online tool for running python scripts combined with text, visual plots, and more. \n",
    "   * Alternatively, you can [install jupyter](https://jupyter.org/install) locally on your computer and run the provided notebook there.\n",
    "* Second and third parts: questions on probability and linear algebra to refresh your memory and prepare for the rest of this course.  \n",
    "The questions are mostly analytic but also require completing and running simple code blocks in the jupyter notebook.\n",
    "   * Forgot your linear algebra? Try watching [Essence of LA](https://www.youtube.com/playlist?list=PLZHQObOWTQDPD3MizzM2xVFitgF8hE_ab) or reading [The Matrix Cookbook](http://www2.imm.dtu.dk/pubdb/views/edoc_download.php/3274/pdf/imm3274.pdf).\n",
    "   * Forgot your probability? Try reading [Probability Theory Review for Machine Learning](https://see.stanford.edu/materials/aimlcs229/cs229-prob.pdf).\n",
    "      * Correction: In 3.2 it says that $X\\perp Y\\Longrightarrow\\text{Var}(X+Y)=\\text{Var}(X)\\text{Var}(Y)$ but it should say $X\\perp Y\\Longrightarrow\\text{Var}(X+Y)=\\text{Var}(X)+\\text{Var}(Y)$."
   ]
  },
  {
   "cell_type": "markdown",
   "metadata": {
    "id": "xLocVTSopDBE"
   },
   "source": [
    "### Important: How to submit the notebook's output?\n",
    "\n",
    "You should only submit PDF file(s).\n",
    "In the print dialog of your browser, you can choose to `Save as PDF`. However, notice that some of the outputs may be cropped (become invisible), which can harm your grade.\n",
    "\n",
    "To prevent this from happening, tune the \"scale\" of the printed file, to fit in the *entire* output. For instance, in Chrome you should lower the value in `More settings->Scale->Custom` to contain the entire output (50%~ often work well).\n",
    "\n",
    "\n",
    "# Good luck!\n",
    "\n",
    "---"
   ]
  },
  {
   "cell_type": "markdown",
   "metadata": {
    "id": "T4ZfGFIGpftc"
   },
   "source": [
    "# What is pandas?\n",
    "Python library for Data manipulation and Analysis\n",
    " - Provide expressive data structures designed to make working with “relational” or “labeled” data both easy and intuitive.\n",
    " - Aims to be the fundamental high-level building block for doing practical, real world data analysis in Python.\n",
    " - Built on top of NumPy and is intended to integrate well within a scientific computing.\n",
    " - Inspired by R and Excel.\n",
    " \n",
    "Pandas is well suited for many different kinds of data:\n",
    "- **Tabular data** with heterogeneously-typed columns, as in an SQL table or Excel spreadsheet\n",
    "- Ordered and unordered (not necessarily fixed-frequency) **time series data**.\n",
    "- **Arbitrary matrix data** (homogeneously typed or heterogeneous) with row and column labels\n",
    "- Any other form of observational / statistical data sets (can be unlabeled)\n",
    "\n",
    "Two primary data structures\n",
    "- **Series** (1-dimensional) – Similar to a column in Excel’s spreadsheet\n",
    "- **Data Frame** (2-dimensional) – Similar to R’s data frame\n",
    "\n",
    "A few of the things that Pandas does well\n",
    "- Easy handling of **missing data** (represented as NaN)\n",
    "- Automatic and explicit **data alignment**\n",
    "- Read and Analyze **CSV** , Excel Sheets Easily\n",
    "- Operations\n",
    "- Filtering, Group By, Merging, Slicing and Dicing, Pivoting and Reshaping\n",
    "- Plotting graphs\n",
    "\n",
    "Pandas is very useful for interactive data exploration at the data preparation stage of a project\n",
    "\n",
    "The offical guide to Pandas can be found [here](http://pandas-docs.github.io/pandas-docs-travis/10min.html)"
   ]
  },
  {
   "cell_type": "markdown",
   "metadata": {
    "id": "TDYQN4Ml2aoo"
   },
   "source": [
    "## Pandas Objects"
   ]
  },
  {
   "cell_type": "code",
   "execution_count": 5,
   "metadata": {
    "id": "Q_c5BMc-2aoq"
   },
   "outputs": [],
   "source": [
    "import pandas as pd\n",
    "import numpy as np"
   ]
  },
  {
   "cell_type": "markdown",
   "metadata": {
    "id": "of7RnZdI2aov"
   },
   "source": [
    "**Series** is like a column in a spreadsheet."
   ]
  },
  {
   "cell_type": "code",
   "execution_count": 6,
   "metadata": {
    "colab": {
     "base_uri": "https://localhost:8080/"
    },
    "id": "ZhkFcXtD2aov",
    "outputId": "5378ab2b-0cfc-40bf-b52e-b4c31a01ae5d"
   },
   "outputs": [
    {
     "data": {
      "text/plain": [
       "0         1\n",
       "1       3.2\n",
       "2       NaN\n",
       "3    string\n",
       "dtype: object"
      ]
     },
     "execution_count": 6,
     "metadata": {},
     "output_type": "execute_result"
    }
   ],
   "source": [
    "s = pd.Series([1,3.2,np.nan,'string'])\n",
    "s"
   ]
  },
  {
   "cell_type": "markdown",
   "metadata": {
    "id": "zNJeQjmW2ao2"
   },
   "source": [
    "**DataFrame** is like a spreadsheet – a dictionary of Series objects"
   ]
  },
  {
   "cell_type": "code",
   "execution_count": 7,
   "metadata": {
    "colab": {
     "base_uri": "https://localhost:8080/",
     "height": 238
    },
    "id": "Y3aJeHpt2ao2",
    "outputId": "566cdcd5-b90b-4f3f-b950-e99606e9ae31"
   },
   "outputs": [
    {
     "data": {
      "text/html": [
       "<div>\n",
       "<style scoped>\n",
       "    .dataframe tbody tr th:only-of-type {\n",
       "        vertical-align: middle;\n",
       "    }\n",
       "\n",
       "    .dataframe tbody tr th {\n",
       "        vertical-align: top;\n",
       "    }\n",
       "\n",
       "    .dataframe thead th {\n",
       "        text-align: right;\n",
       "    }\n",
       "</style>\n",
       "<table border=\"1\" class=\"dataframe\">\n",
       "  <thead>\n",
       "    <tr style=\"text-align: right;\">\n",
       "      <th></th>\n",
       "      <th>gene</th>\n",
       "      <th>log2FC</th>\n",
       "      <th>pval</th>\n",
       "    </tr>\n",
       "  </thead>\n",
       "  <tbody>\n",
       "    <tr>\n",
       "      <th>0</th>\n",
       "      <td>ABC</td>\n",
       "      <td>-3.50</td>\n",
       "      <td>0.01</td>\n",
       "    </tr>\n",
       "    <tr>\n",
       "      <th>1</th>\n",
       "      <td>ABC</td>\n",
       "      <td>-2.30</td>\n",
       "      <td>0.12</td>\n",
       "    </tr>\n",
       "    <tr>\n",
       "      <th>2</th>\n",
       "      <td>DEF</td>\n",
       "      <td>1.80</td>\n",
       "      <td>0.03</td>\n",
       "    </tr>\n",
       "    <tr>\n",
       "      <th>3</th>\n",
       "      <td>DEF</td>\n",
       "      <td>3.70</td>\n",
       "      <td>0.01</td>\n",
       "    </tr>\n",
       "    <tr>\n",
       "      <th>4</th>\n",
       "      <td>GHI</td>\n",
       "      <td>0.04</td>\n",
       "      <td>0.43</td>\n",
       "    </tr>\n",
       "    <tr>\n",
       "      <th>5</th>\n",
       "      <td>GHI</td>\n",
       "      <td>-0.10</td>\n",
       "      <td>0.67</td>\n",
       "    </tr>\n",
       "  </tbody>\n",
       "</table>\n",
       "</div>"
      ],
      "text/plain": [
       "  gene  log2FC  pval\n",
       "0  ABC   -3.50  0.01\n",
       "1  ABC   -2.30  0.12\n",
       "2  DEF    1.80  0.03\n",
       "3  DEF    3.70  0.01\n",
       "4  GHI    0.04  0.43\n",
       "5  GHI   -0.10  0.67"
      ]
     },
     "execution_count": 7,
     "metadata": {},
     "output_type": "execute_result"
    }
   ],
   "source": [
    "data = [['ABC', -3.5, 0.01], ['ABC', -2.3, 0.12], ['DEF', 1.8, 0.03],\n",
    "['DEF', 3.7, 0.01], ['GHI', 0.04, 0.43], ['GHI', -0.1, 0.67]]\n",
    "\n",
    "df = pd.DataFrame(data, columns=['gene', 'log2FC', 'pval'])\n",
    "\n",
    "df"
   ]
  },
  {
   "cell_type": "markdown",
   "metadata": {
    "id": "O19TbeqQ2apV"
   },
   "source": [
    "## Input and Output\n",
    "How do you get data into and out of Pandas as spreadsheets?\n",
    " - Pandas can work with XLS or XLSX files.\n",
    " - Can also work with CSV (comma separated values) file\n",
    " - CSV stores plain text in a tabular form\n",
    " - CSV files may have a header\n",
    " - You can use a variety of different field delimiters (rather than a ‘comma’). Check which delimiter your file is using before import!\n",
    " \n",
    "__Import to Pandas__  \n",
    " > `df = pd.read_csv('data.csv', sep='\\t', header=0)`\n",
    "\n",
    "For Excel files, it's the same thing but with read_excel\n",
    "\n",
    "__Export to text file__  \n",
    " > `df.to_csv('data.csv', sep='\\t', header=True, index=False)`\n",
    " \n",
    "The values of header and index depend on if you want to print the column and/or row names"
   ]
  },
  {
   "cell_type": "markdown",
   "metadata": {
    "id": "m2thuF1H2apW"
   },
   "source": [
    "# Case Study – Analyzing Titanic Passengers Data"
   ]
  },
  {
   "cell_type": "code",
   "execution_count": 8,
   "metadata": {
    "id": "ff1J3-af2apW"
   },
   "outputs": [],
   "source": [
    "import matplotlib.pyplot as plt\n",
    "%matplotlib inline\n",
    "import numpy as np\n",
    "import pandas as pd\n",
    "import os\n",
    "\n",
    "\n",
    "#set your working_dir\n",
    "working_dir = os.path.join(os.getcwd(), 'titanic')\n",
    "\n",
    "url_base = 'https://github.com/Currie32/Titanic-Kaggle-Competition/raw/master/{}.csv'\n",
    "train_url = url_base.format('train')\n",
    "test_url = url_base.format('test')\n",
    "\n",
    "# For .read_csv, always use header=0 when you know row 0 is the header row\n",
    "train = pd.read_csv(train_url, header=0)\n",
    "test = pd.read_csv(test_url, header=0)\n",
    "# You can also load a csv file from a local file rather than a URL\n"
   ]
  },
  {
   "cell_type": "markdown",
   "metadata": {
    "id": "8S_-4wEdUF4D"
   },
   "source": [
    "**(T1)** Use [`pandas.DataFrame.head`](https://pandas.pydata.org/pandas-docs/stable/reference/api/pandas.DataFrame.head.html) to display the top 6 rows of the `train` table\n",
    "\n",
    "\n",
    "\n"
   ]
  },
  {
   "cell_type": "code",
   "execution_count": 9,
   "metadata": {
    "colab": {
     "base_uri": "https://localhost:8080/",
     "height": 614
    },
    "id": "N358U4JN2apY",
    "outputId": "373dc169-404d-4db2-fca7-8380cebe7c20"
   },
   "outputs": [
    {
     "data": {
      "text/html": [
       "<div>\n",
       "<style scoped>\n",
       "    .dataframe tbody tr th:only-of-type {\n",
       "        vertical-align: middle;\n",
       "    }\n",
       "\n",
       "    .dataframe tbody tr th {\n",
       "        vertical-align: top;\n",
       "    }\n",
       "\n",
       "    .dataframe thead th {\n",
       "        text-align: right;\n",
       "    }\n",
       "</style>\n",
       "<table border=\"1\" class=\"dataframe\">\n",
       "  <thead>\n",
       "    <tr style=\"text-align: right;\">\n",
       "      <th></th>\n",
       "      <th>PassengerId</th>\n",
       "      <th>Survived</th>\n",
       "      <th>Pclass</th>\n",
       "      <th>Name</th>\n",
       "      <th>Sex</th>\n",
       "      <th>Age</th>\n",
       "      <th>SibSp</th>\n",
       "      <th>Parch</th>\n",
       "      <th>Ticket</th>\n",
       "      <th>Fare</th>\n",
       "      <th>Cabin</th>\n",
       "      <th>Embarked</th>\n",
       "    </tr>\n",
       "  </thead>\n",
       "  <tbody>\n",
       "    <tr>\n",
       "      <th>0</th>\n",
       "      <td>1</td>\n",
       "      <td>0</td>\n",
       "      <td>3</td>\n",
       "      <td>Braund, Mr. Owen Harris</td>\n",
       "      <td>male</td>\n",
       "      <td>22.0</td>\n",
       "      <td>1</td>\n",
       "      <td>0</td>\n",
       "      <td>A/5 21171</td>\n",
       "      <td>7.2500</td>\n",
       "      <td>NaN</td>\n",
       "      <td>S</td>\n",
       "    </tr>\n",
       "    <tr>\n",
       "      <th>1</th>\n",
       "      <td>2</td>\n",
       "      <td>1</td>\n",
       "      <td>1</td>\n",
       "      <td>Cumings, Mrs. John Bradley (Florence Briggs Th...</td>\n",
       "      <td>female</td>\n",
       "      <td>38.0</td>\n",
       "      <td>1</td>\n",
       "      <td>0</td>\n",
       "      <td>PC 17599</td>\n",
       "      <td>71.2833</td>\n",
       "      <td>C85</td>\n",
       "      <td>C</td>\n",
       "    </tr>\n",
       "    <tr>\n",
       "      <th>2</th>\n",
       "      <td>3</td>\n",
       "      <td>1</td>\n",
       "      <td>3</td>\n",
       "      <td>Heikkinen, Miss. Laina</td>\n",
       "      <td>female</td>\n",
       "      <td>26.0</td>\n",
       "      <td>0</td>\n",
       "      <td>0</td>\n",
       "      <td>STON/O2. 3101282</td>\n",
       "      <td>7.9250</td>\n",
       "      <td>NaN</td>\n",
       "      <td>S</td>\n",
       "    </tr>\n",
       "    <tr>\n",
       "      <th>3</th>\n",
       "      <td>4</td>\n",
       "      <td>1</td>\n",
       "      <td>1</td>\n",
       "      <td>Futrelle, Mrs. Jacques Heath (Lily May Peel)</td>\n",
       "      <td>female</td>\n",
       "      <td>35.0</td>\n",
       "      <td>1</td>\n",
       "      <td>0</td>\n",
       "      <td>113803</td>\n",
       "      <td>53.1000</td>\n",
       "      <td>C123</td>\n",
       "      <td>S</td>\n",
       "    </tr>\n",
       "    <tr>\n",
       "      <th>4</th>\n",
       "      <td>5</td>\n",
       "      <td>0</td>\n",
       "      <td>3</td>\n",
       "      <td>Allen, Mr. William Henry</td>\n",
       "      <td>male</td>\n",
       "      <td>35.0</td>\n",
       "      <td>0</td>\n",
       "      <td>0</td>\n",
       "      <td>373450</td>\n",
       "      <td>8.0500</td>\n",
       "      <td>NaN</td>\n",
       "      <td>S</td>\n",
       "    </tr>\n",
       "    <tr>\n",
       "      <th>5</th>\n",
       "      <td>6</td>\n",
       "      <td>0</td>\n",
       "      <td>3</td>\n",
       "      <td>Moran, Mr. James</td>\n",
       "      <td>male</td>\n",
       "      <td>NaN</td>\n",
       "      <td>0</td>\n",
       "      <td>0</td>\n",
       "      <td>330877</td>\n",
       "      <td>8.4583</td>\n",
       "      <td>NaN</td>\n",
       "      <td>Q</td>\n",
       "    </tr>\n",
       "  </tbody>\n",
       "</table>\n",
       "</div>"
      ],
      "text/plain": [
       "   PassengerId  Survived  Pclass  \\\n",
       "0            1         0       3   \n",
       "1            2         1       1   \n",
       "2            3         1       3   \n",
       "3            4         1       1   \n",
       "4            5         0       3   \n",
       "5            6         0       3   \n",
       "\n",
       "                                                Name     Sex   Age  SibSp  \\\n",
       "0                            Braund, Mr. Owen Harris    male  22.0      1   \n",
       "1  Cumings, Mrs. John Bradley (Florence Briggs Th...  female  38.0      1   \n",
       "2                             Heikkinen, Miss. Laina  female  26.0      0   \n",
       "3       Futrelle, Mrs. Jacques Heath (Lily May Peel)  female  35.0      1   \n",
       "4                           Allen, Mr. William Henry    male  35.0      0   \n",
       "5                                   Moran, Mr. James    male   NaN      0   \n",
       "\n",
       "   Parch            Ticket     Fare Cabin Embarked  \n",
       "0      0         A/5 21171   7.2500   NaN        S  \n",
       "1      0          PC 17599  71.2833   C85        C  \n",
       "2      0  STON/O2. 3101282   7.9250   NaN        S  \n",
       "3      0            113803  53.1000  C123        S  \n",
       "4      0            373450   8.0500   NaN        S  \n",
       "5      0            330877   8.4583   NaN        Q  "
      ]
     },
     "execution_count": 9,
     "metadata": {},
     "output_type": "execute_result"
    }
   ],
   "source": [
    "# TODO: print the top 6 rows of the table\n",
    "pd.DataFrame.head(train,6)"
   ]
  },
  {
   "cell_type": "markdown",
   "metadata": {
    "id": "qJKYMsXK2apb"
   },
   "source": [
    "#### VARIABLE DESCRIPTIONS:\n",
    "**Survived** - 0 = No; 1 = Yes  \n",
    "**Age** - Passenger's age  \n",
    "**Pclass** - Passenger Class (1 = 1st; 2 = 2nd; 3 = 3rd)  \n",
    "**SibSp** - Number of Siblings/Spouses Aboard  \n",
    "**Parch** - Number of Parents/Children Aboard  \n",
    "**Ticket** - Ticket Number  \n",
    "**Fare** - Passenger Fare  \n",
    "**Cabin** - Cabin ID  \n",
    "**Embarked** - Port of Embarkation (C = Cherbourg; Q = Queenstown; S = Southampton)  "
   ]
  },
  {
   "cell_type": "code",
   "execution_count": 10,
   "metadata": {
    "colab": {
     "base_uri": "https://localhost:8080/"
    },
    "id": "p4A1YqGrMfZx",
    "outputId": "ed2fb37b-abfe-47e4-9bb0-4be630b4cdbe"
   },
   "outputs": [
    {
     "data": {
      "text/plain": [
       "Index(['PassengerId', 'Survived', 'Pclass', 'Name', 'Sex', 'Age', 'SibSp',\n",
       "       'Parch', 'Ticket', 'Fare', 'Cabin', 'Embarked'],\n",
       "      dtype='object')"
      ]
     },
     "execution_count": 10,
     "metadata": {},
     "output_type": "execute_result"
    }
   ],
   "source": [
    "train.columns"
   ]
  },
  {
   "cell_type": "markdown",
   "metadata": {
    "id": "qDaTDRy12apb"
   },
   "source": [
    "## Understanding the data (Summarizations)"
   ]
  },
  {
   "cell_type": "code",
   "execution_count": 11,
   "metadata": {
    "colab": {
     "base_uri": "https://localhost:8080/"
    },
    "id": "JlgPYAvoTbzW",
    "outputId": "1d68703d-5299-4b78-f3cb-5478937db1a5"
   },
   "outputs": [
    {
     "name": "stdout",
     "output_type": "stream",
     "text": [
      "<class 'pandas.core.frame.DataFrame'>\n",
      "RangeIndex: 891 entries, 0 to 890\n",
      "Data columns (total 12 columns):\n",
      " #   Column       Non-Null Count  Dtype  \n",
      "---  ------       --------------  -----  \n",
      " 0   PassengerId  891 non-null    int64  \n",
      " 1   Survived     891 non-null    int64  \n",
      " 2   Pclass       891 non-null    int64  \n",
      " 3   Name         891 non-null    object \n",
      " 4   Sex          891 non-null    object \n",
      " 5   Age          714 non-null    float64\n",
      " 6   SibSp        891 non-null    int64  \n",
      " 7   Parch        891 non-null    int64  \n",
      " 8   Ticket       891 non-null    object \n",
      " 9   Fare         891 non-null    float64\n",
      " 10  Cabin        204 non-null    object \n",
      " 11  Embarked     889 non-null    object \n",
      "dtypes: float64(2), int64(5), object(5)\n",
      "memory usage: 83.7+ KB\n"
     ]
    }
   ],
   "source": [
    "train.info()"
   ]
  },
  {
   "cell_type": "code",
   "execution_count": 12,
   "metadata": {
    "colab": {
     "base_uri": "https://localhost:8080/"
    },
    "id": "NEN2DzRf2apc",
    "outputId": "5dc5eb2e-3a91-4834-974c-42eaf7a1b7fd"
   },
   "outputs": [
    {
     "data": {
      "text/plain": [
       "(891, 12)"
      ]
     },
     "execution_count": 12,
     "metadata": {},
     "output_type": "execute_result"
    }
   ],
   "source": [
    "train.shape"
   ]
  },
  {
   "cell_type": "code",
   "execution_count": 13,
   "metadata": {
    "colab": {
     "base_uri": "https://localhost:8080/"
    },
    "id": "QTtIgJx32aph",
    "outputId": "1f0950cf-d20d-4345-8159-044f154175e0"
   },
   "outputs": [
    {
     "data": {
      "text/plain": [
       "0    549\n",
       "1    342\n",
       "Name: Survived, dtype: int64"
      ]
     },
     "execution_count": 13,
     "metadata": {},
     "output_type": "execute_result"
    }
   ],
   "source": [
    "# Count values of 'Survived'\n",
    "train.Survived.value_counts()"
   ]
  },
  {
   "cell_type": "code",
   "execution_count": 14,
   "metadata": {
    "colab": {
     "base_uri": "https://localhost:8080/"
    },
    "id": "snOQKMYl2apk",
    "outputId": "bc444183-ae51-4b21-8978-6691532d83d0"
   },
   "outputs": [
    {
     "data": {
      "text/plain": [
       "32.2042079685746"
      ]
     },
     "execution_count": 14,
     "metadata": {},
     "output_type": "execute_result"
    }
   ],
   "source": [
    "# Calculate the mean fare price\n",
    "train.Fare.mean()"
   ]
  },
  {
   "cell_type": "code",
   "execution_count": 15,
   "metadata": {
    "colab": {
     "base_uri": "https://localhost:8080/",
     "height": 364
    },
    "id": "IksYWK9X2apq",
    "outputId": "c78fe3f8-36b0-432b-d26b-a87596ad229e"
   },
   "outputs": [
    {
     "data": {
      "text/html": [
       "<div>\n",
       "<style scoped>\n",
       "    .dataframe tbody tr th:only-of-type {\n",
       "        vertical-align: middle;\n",
       "    }\n",
       "\n",
       "    .dataframe tbody tr th {\n",
       "        vertical-align: top;\n",
       "    }\n",
       "\n",
       "    .dataframe thead th {\n",
       "        text-align: right;\n",
       "    }\n",
       "</style>\n",
       "<table border=\"1\" class=\"dataframe\">\n",
       "  <thead>\n",
       "    <tr style=\"text-align: right;\">\n",
       "      <th></th>\n",
       "      <th>PassengerId</th>\n",
       "      <th>Survived</th>\n",
       "      <th>Pclass</th>\n",
       "      <th>Age</th>\n",
       "      <th>SibSp</th>\n",
       "      <th>Parch</th>\n",
       "      <th>Fare</th>\n",
       "    </tr>\n",
       "  </thead>\n",
       "  <tbody>\n",
       "    <tr>\n",
       "      <th>count</th>\n",
       "      <td>891.000000</td>\n",
       "      <td>891.000000</td>\n",
       "      <td>891.000000</td>\n",
       "      <td>714.000000</td>\n",
       "      <td>891.000000</td>\n",
       "      <td>891.000000</td>\n",
       "      <td>891.000000</td>\n",
       "    </tr>\n",
       "    <tr>\n",
       "      <th>mean</th>\n",
       "      <td>446.000000</td>\n",
       "      <td>0.383838</td>\n",
       "      <td>2.308642</td>\n",
       "      <td>29.699118</td>\n",
       "      <td>0.523008</td>\n",
       "      <td>0.381594</td>\n",
       "      <td>32.204208</td>\n",
       "    </tr>\n",
       "    <tr>\n",
       "      <th>std</th>\n",
       "      <td>257.353842</td>\n",
       "      <td>0.486592</td>\n",
       "      <td>0.836071</td>\n",
       "      <td>14.526497</td>\n",
       "      <td>1.102743</td>\n",
       "      <td>0.806057</td>\n",
       "      <td>49.693429</td>\n",
       "    </tr>\n",
       "    <tr>\n",
       "      <th>min</th>\n",
       "      <td>1.000000</td>\n",
       "      <td>0.000000</td>\n",
       "      <td>1.000000</td>\n",
       "      <td>0.420000</td>\n",
       "      <td>0.000000</td>\n",
       "      <td>0.000000</td>\n",
       "      <td>0.000000</td>\n",
       "    </tr>\n",
       "    <tr>\n",
       "      <th>25%</th>\n",
       "      <td>223.500000</td>\n",
       "      <td>0.000000</td>\n",
       "      <td>2.000000</td>\n",
       "      <td>20.125000</td>\n",
       "      <td>0.000000</td>\n",
       "      <td>0.000000</td>\n",
       "      <td>7.910400</td>\n",
       "    </tr>\n",
       "    <tr>\n",
       "      <th>50%</th>\n",
       "      <td>446.000000</td>\n",
       "      <td>0.000000</td>\n",
       "      <td>3.000000</td>\n",
       "      <td>28.000000</td>\n",
       "      <td>0.000000</td>\n",
       "      <td>0.000000</td>\n",
       "      <td>14.454200</td>\n",
       "    </tr>\n",
       "    <tr>\n",
       "      <th>75%</th>\n",
       "      <td>668.500000</td>\n",
       "      <td>1.000000</td>\n",
       "      <td>3.000000</td>\n",
       "      <td>38.000000</td>\n",
       "      <td>1.000000</td>\n",
       "      <td>0.000000</td>\n",
       "      <td>31.000000</td>\n",
       "    </tr>\n",
       "    <tr>\n",
       "      <th>max</th>\n",
       "      <td>891.000000</td>\n",
       "      <td>1.000000</td>\n",
       "      <td>3.000000</td>\n",
       "      <td>80.000000</td>\n",
       "      <td>8.000000</td>\n",
       "      <td>6.000000</td>\n",
       "      <td>512.329200</td>\n",
       "    </tr>\n",
       "  </tbody>\n",
       "</table>\n",
       "</div>"
      ],
      "text/plain": [
       "       PassengerId    Survived      Pclass         Age       SibSp  \\\n",
       "count   891.000000  891.000000  891.000000  714.000000  891.000000   \n",
       "mean    446.000000    0.383838    2.308642   29.699118    0.523008   \n",
       "std     257.353842    0.486592    0.836071   14.526497    1.102743   \n",
       "min       1.000000    0.000000    1.000000    0.420000    0.000000   \n",
       "25%     223.500000    0.000000    2.000000   20.125000    0.000000   \n",
       "50%     446.000000    0.000000    3.000000   28.000000    0.000000   \n",
       "75%     668.500000    1.000000    3.000000   38.000000    1.000000   \n",
       "max     891.000000    1.000000    3.000000   80.000000    8.000000   \n",
       "\n",
       "            Parch        Fare  \n",
       "count  891.000000  891.000000  \n",
       "mean     0.381594   32.204208  \n",
       "std      0.806057   49.693429  \n",
       "min      0.000000    0.000000  \n",
       "25%      0.000000    7.910400  \n",
       "50%      0.000000   14.454200  \n",
       "75%      0.000000   31.000000  \n",
       "max      6.000000  512.329200  "
      ]
     },
     "execution_count": 15,
     "metadata": {},
     "output_type": "execute_result"
    }
   ],
   "source": [
    "# General statistics of the dataframe\n",
    "train.describe()"
   ]
  },
  {
   "cell_type": "markdown",
   "metadata": {
    "id": "I6-oHvuz2apv"
   },
   "source": [
    "### Selection examples\n",
    "\n",
    "#### Selecting columns"
   ]
  },
  {
   "cell_type": "code",
   "execution_count": 16,
   "metadata": {
    "colab": {
     "base_uri": "https://localhost:8080/",
     "height": 250
    },
    "id": "3uY4Z3D92apv",
    "outputId": "35aed5de-25e6-4c85-c46f-7ae4bd2124e4"
   },
   "outputs": [
    {
     "data": {
      "text/html": [
       "<div>\n",
       "<style scoped>\n",
       "    .dataframe tbody tr th:only-of-type {\n",
       "        vertical-align: middle;\n",
       "    }\n",
       "\n",
       "    .dataframe tbody tr th {\n",
       "        vertical-align: top;\n",
       "    }\n",
       "\n",
       "    .dataframe thead th {\n",
       "        text-align: right;\n",
       "    }\n",
       "</style>\n",
       "<table border=\"1\" class=\"dataframe\">\n",
       "  <thead>\n",
       "    <tr style=\"text-align: right;\">\n",
       "      <th></th>\n",
       "      <th>Name</th>\n",
       "      <th>Sex</th>\n",
       "      <th>Age</th>\n",
       "      <th>Survived</th>\n",
       "    </tr>\n",
       "  </thead>\n",
       "  <tbody>\n",
       "    <tr>\n",
       "      <th>0</th>\n",
       "      <td>Braund, Mr. Owen Harris</td>\n",
       "      <td>male</td>\n",
       "      <td>22.0</td>\n",
       "      <td>0</td>\n",
       "    </tr>\n",
       "    <tr>\n",
       "      <th>1</th>\n",
       "      <td>Cumings, Mrs. John Bradley (Florence Briggs Th...</td>\n",
       "      <td>female</td>\n",
       "      <td>38.0</td>\n",
       "      <td>1</td>\n",
       "    </tr>\n",
       "    <tr>\n",
       "      <th>2</th>\n",
       "      <td>Heikkinen, Miss. Laina</td>\n",
       "      <td>female</td>\n",
       "      <td>26.0</td>\n",
       "      <td>1</td>\n",
       "    </tr>\n",
       "    <tr>\n",
       "      <th>3</th>\n",
       "      <td>Futrelle, Mrs. Jacques Heath (Lily May Peel)</td>\n",
       "      <td>female</td>\n",
       "      <td>35.0</td>\n",
       "      <td>1</td>\n",
       "    </tr>\n",
       "    <tr>\n",
       "      <th>4</th>\n",
       "      <td>Allen, Mr. William Henry</td>\n",
       "      <td>male</td>\n",
       "      <td>35.0</td>\n",
       "      <td>0</td>\n",
       "    </tr>\n",
       "  </tbody>\n",
       "</table>\n",
       "</div>"
      ],
      "text/plain": [
       "                                                Name     Sex   Age  Survived\n",
       "0                            Braund, Mr. Owen Harris    male  22.0         0\n",
       "1  Cumings, Mrs. John Bradley (Florence Briggs Th...  female  38.0         1\n",
       "2                             Heikkinen, Miss. Laina  female  26.0         1\n",
       "3       Futrelle, Mrs. Jacques Heath (Lily May Peel)  female  35.0         1\n",
       "4                           Allen, Mr. William Henry    male  35.0         0"
      ]
     },
     "execution_count": 16,
     "metadata": {},
     "output_type": "execute_result"
    }
   ],
   "source": [
    "# Selection is very similar to standard Python selection\n",
    "df1 = train[[\"Name\", \"Sex\", \"Age\", \"Survived\"]]\n",
    "df1.head()"
   ]
  },
  {
   "cell_type": "markdown",
   "metadata": {
    "id": "b4EyHvFXLjFT"
   },
   "source": [
    "#### Selecting rows"
   ]
  },
  {
   "cell_type": "code",
   "execution_count": 17,
   "metadata": {
    "colab": {
     "base_uri": "https://localhost:8080/",
     "height": 206
    },
    "id": "xGY0BqS72ap0",
    "outputId": "ff4c5188-104c-468b-b78a-6fe62c1d597d"
   },
   "outputs": [
    {
     "data": {
      "text/html": [
       "<div>\n",
       "<style scoped>\n",
       "    .dataframe tbody tr th:only-of-type {\n",
       "        vertical-align: middle;\n",
       "    }\n",
       "\n",
       "    .dataframe tbody tr th {\n",
       "        vertical-align: top;\n",
       "    }\n",
       "\n",
       "    .dataframe thead th {\n",
       "        text-align: right;\n",
       "    }\n",
       "</style>\n",
       "<table border=\"1\" class=\"dataframe\">\n",
       "  <thead>\n",
       "    <tr style=\"text-align: right;\">\n",
       "      <th></th>\n",
       "      <th>Name</th>\n",
       "      <th>Sex</th>\n",
       "      <th>Age</th>\n",
       "      <th>Survived</th>\n",
       "    </tr>\n",
       "  </thead>\n",
       "  <tbody>\n",
       "    <tr>\n",
       "      <th>10</th>\n",
       "      <td>Sandstrom, Miss. Marguerite Rut</td>\n",
       "      <td>female</td>\n",
       "      <td>4.0</td>\n",
       "      <td>1</td>\n",
       "    </tr>\n",
       "    <tr>\n",
       "      <th>11</th>\n",
       "      <td>Bonnell, Miss. Elizabeth</td>\n",
       "      <td>female</td>\n",
       "      <td>58.0</td>\n",
       "      <td>1</td>\n",
       "    </tr>\n",
       "    <tr>\n",
       "      <th>12</th>\n",
       "      <td>Saundercock, Mr. William Henry</td>\n",
       "      <td>male</td>\n",
       "      <td>20.0</td>\n",
       "      <td>0</td>\n",
       "    </tr>\n",
       "    <tr>\n",
       "      <th>13</th>\n",
       "      <td>Andersson, Mr. Anders Johan</td>\n",
       "      <td>male</td>\n",
       "      <td>39.0</td>\n",
       "      <td>0</td>\n",
       "    </tr>\n",
       "    <tr>\n",
       "      <th>14</th>\n",
       "      <td>Vestrom, Miss. Hulda Amanda Adolfina</td>\n",
       "      <td>female</td>\n",
       "      <td>14.0</td>\n",
       "      <td>0</td>\n",
       "    </tr>\n",
       "  </tbody>\n",
       "</table>\n",
       "</div>"
      ],
      "text/plain": [
       "                                    Name     Sex   Age  Survived\n",
       "10       Sandstrom, Miss. Marguerite Rut  female   4.0         1\n",
       "11              Bonnell, Miss. Elizabeth  female  58.0         1\n",
       "12        Saundercock, Mr. William Henry    male  20.0         0\n",
       "13           Andersson, Mr. Anders Johan    male  39.0         0\n",
       "14  Vestrom, Miss. Hulda Amanda Adolfina  female  14.0         0"
      ]
     },
     "execution_count": 17,
     "metadata": {},
     "output_type": "execute_result"
    }
   ],
   "source": [
    "df1[10:15]"
   ]
  },
  {
   "cell_type": "markdown",
   "metadata": {
    "id": "hDGOpl252ap7"
   },
   "source": [
    "### Filtering Examples"
   ]
  },
  {
   "cell_type": "markdown",
   "metadata": {
    "id": "kJMt5yUxWY79"
   },
   "source": [
    "#### Filtering with one condition"
   ]
  },
  {
   "cell_type": "code",
   "execution_count": 18,
   "metadata": {
    "colab": {
     "base_uri": "https://localhost:8080/"
    },
    "id": "ozFXXNB_2ap9",
    "outputId": "5f3a0305-60cd-43bd-b7f9-1c3e106b79b2"
   },
   "outputs": [
    {
     "data": {
      "text/plain": [
       "0      False\n",
       "1       True\n",
       "2       True\n",
       "3       True\n",
       "4      False\n",
       "       ...  \n",
       "886    False\n",
       "887     True\n",
       "888     True\n",
       "889    False\n",
       "890    False\n",
       "Name: Sex, Length: 891, dtype: bool"
      ]
     },
     "execution_count": 18,
     "metadata": {},
     "output_type": "execute_result"
    }
   ],
   "source": [
    "# Filtering allows you to create masks given some conditions\n",
    "df1.Sex == 'female' "
   ]
  },
  {
   "cell_type": "code",
   "execution_count": 19,
   "metadata": {
    "colab": {
     "base_uri": "https://localhost:8080/",
     "height": 250
    },
    "id": "xfny3baQVPOt",
    "outputId": "54fac18d-4da0-46d7-9fbb-e2900f9ccdec"
   },
   "outputs": [
    {
     "data": {
      "text/html": [
       "<div>\n",
       "<style scoped>\n",
       "    .dataframe tbody tr th:only-of-type {\n",
       "        vertical-align: middle;\n",
       "    }\n",
       "\n",
       "    .dataframe tbody tr th {\n",
       "        vertical-align: top;\n",
       "    }\n",
       "\n",
       "    .dataframe thead th {\n",
       "        text-align: right;\n",
       "    }\n",
       "</style>\n",
       "<table border=\"1\" class=\"dataframe\">\n",
       "  <thead>\n",
       "    <tr style=\"text-align: right;\">\n",
       "      <th></th>\n",
       "      <th>Name</th>\n",
       "      <th>Sex</th>\n",
       "      <th>Age</th>\n",
       "      <th>Survived</th>\n",
       "    </tr>\n",
       "  </thead>\n",
       "  <tbody>\n",
       "    <tr>\n",
       "      <th>1</th>\n",
       "      <td>Cumings, Mrs. John Bradley (Florence Briggs Th...</td>\n",
       "      <td>female</td>\n",
       "      <td>38.0</td>\n",
       "      <td>1</td>\n",
       "    </tr>\n",
       "    <tr>\n",
       "      <th>2</th>\n",
       "      <td>Heikkinen, Miss. Laina</td>\n",
       "      <td>female</td>\n",
       "      <td>26.0</td>\n",
       "      <td>1</td>\n",
       "    </tr>\n",
       "    <tr>\n",
       "      <th>3</th>\n",
       "      <td>Futrelle, Mrs. Jacques Heath (Lily May Peel)</td>\n",
       "      <td>female</td>\n",
       "      <td>35.0</td>\n",
       "      <td>1</td>\n",
       "    </tr>\n",
       "    <tr>\n",
       "      <th>8</th>\n",
       "      <td>Johnson, Mrs. Oscar W (Elisabeth Vilhelmina Berg)</td>\n",
       "      <td>female</td>\n",
       "      <td>27.0</td>\n",
       "      <td>1</td>\n",
       "    </tr>\n",
       "    <tr>\n",
       "      <th>9</th>\n",
       "      <td>Nasser, Mrs. Nicholas (Adele Achem)</td>\n",
       "      <td>female</td>\n",
       "      <td>14.0</td>\n",
       "      <td>1</td>\n",
       "    </tr>\n",
       "  </tbody>\n",
       "</table>\n",
       "</div>"
      ],
      "text/plain": [
       "                                                Name     Sex   Age  Survived\n",
       "1  Cumings, Mrs. John Bradley (Florence Briggs Th...  female  38.0         1\n",
       "2                             Heikkinen, Miss. Laina  female  26.0         1\n",
       "3       Futrelle, Mrs. Jacques Heath (Lily May Peel)  female  35.0         1\n",
       "8  Johnson, Mrs. Oscar W (Elisabeth Vilhelmina Berg)  female  27.0         1\n",
       "9                Nasser, Mrs. Nicholas (Adele Achem)  female  14.0         1"
      ]
     },
     "execution_count": 19,
     "metadata": {},
     "output_type": "execute_result"
    }
   ],
   "source": [
    "onlyFemale = df1[df1.Sex == 'female']\n",
    "onlyFemale.head()"
   ]
  },
  {
   "cell_type": "markdown",
   "metadata": {
    "id": "Y0KwaVncWdjI"
   },
   "source": [
    "#### Filtering with multiple conditions\n",
    "**(T2)** Alter the following command so `adultFemales` will contain only females whose age is 18 and above.  \n",
    "You need to filter using a **single** mask with multiple conditions (google it!), i.e., without creating any temporary dataframes.\n",
    "\n",
    "Additionally, update the `survivalRate` variable to show the correct rate."
   ]
  },
  {
   "cell_type": "code",
   "execution_count": 20,
   "metadata": {
    "colab": {
     "base_uri": "https://localhost:8080/"
    },
    "id": "3hutR85R2aqC",
    "outputId": "13e57814-9b2a-491a-a85e-609d77f6adb7"
   },
   "outputs": [
    {
     "name": "stdout",
     "output_type": "stream",
     "text": [
      "The survival rate of adult females was: 78.24%\n"
     ]
    }
   ],
   "source": [
    "# TODO: update the mask\n",
    "adultFemales = df1[(df1.Sex == 'female') & (df1.Age > 18)]\n",
    "\n",
    "# TODO: Update the survival rate\n",
    "survivalRate = adultFemales.Survived.mean()\n",
    "print(\"The survival rate of adult females was: {:.2f}%\".format(survivalRate * 100))"
   ]
  },
  {
   "cell_type": "markdown",
   "metadata": {
    "id": "udZZT8Fo2aqN"
   },
   "source": [
    "## Aggregating\n",
    "Pandas allows you to aggregate and display different views of your data."
   ]
  },
  {
   "cell_type": "code",
   "execution_count": 21,
   "metadata": {
    "colab": {
     "base_uri": "https://localhost:8080/"
    },
    "id": "_osF_D4n2aqO",
    "outputId": "4ba76738-852b-4b4e-a169-7cb11f5e8117"
   },
   "outputs": [
    {
     "data": {
      "text/plain": [
       "Pclass  Sex   \n",
       "1       female    106.125798\n",
       "        male       67.226127\n",
       "2       female     21.970121\n",
       "        male       19.741782\n",
       "3       female     16.118810\n",
       "        male       12.661633\n",
       "Name: Fare, dtype: float64"
      ]
     },
     "execution_count": 21,
     "metadata": {},
     "output_type": "execute_result"
    }
   ],
   "source": [
    "df2 = train.groupby(['Pclass', 'Sex']).Fare.agg(np.mean)\n",
    "df2"
   ]
  },
  {
   "cell_type": "code",
   "execution_count": 22,
   "metadata": {
    "colab": {
     "base_uri": "https://localhost:8080/",
     "height": 174
    },
    "id": "KiS5Cjm-2aqR",
    "outputId": "7d7801ee-920f-4664-e74d-496387121e6a"
   },
   "outputs": [
    {
     "data": {
      "text/html": [
       "<div>\n",
       "<style scoped>\n",
       "    .dataframe tbody tr th:only-of-type {\n",
       "        vertical-align: middle;\n",
       "    }\n",
       "\n",
       "    .dataframe tbody tr th {\n",
       "        vertical-align: top;\n",
       "    }\n",
       "\n",
       "    .dataframe thead th {\n",
       "        text-align: right;\n",
       "    }\n",
       "</style>\n",
       "<table border=\"1\" class=\"dataframe\">\n",
       "  <thead>\n",
       "    <tr style=\"text-align: right;\">\n",
       "      <th></th>\n",
       "      <th>Survived</th>\n",
       "    </tr>\n",
       "    <tr>\n",
       "      <th>Pclass</th>\n",
       "      <th></th>\n",
       "    </tr>\n",
       "  </thead>\n",
       "  <tbody>\n",
       "    <tr>\n",
       "      <th>1</th>\n",
       "      <td>216</td>\n",
       "    </tr>\n",
       "    <tr>\n",
       "      <th>2</th>\n",
       "      <td>184</td>\n",
       "    </tr>\n",
       "    <tr>\n",
       "      <th>3</th>\n",
       "      <td>491</td>\n",
       "    </tr>\n",
       "  </tbody>\n",
       "</table>\n",
       "</div>"
      ],
      "text/plain": [
       "        Survived\n",
       "Pclass          \n",
       "1            216\n",
       "2            184\n",
       "3            491"
      ]
     },
     "execution_count": 22,
     "metadata": {},
     "output_type": "execute_result"
    }
   ],
   "source": [
    "pd.pivot_table(train, index=['Pclass'], values=['Survived'], aggfunc='count')"
   ]
  },
  {
   "cell_type": "markdown",
   "metadata": {
    "id": "6WNTC_WwHYQ0"
   },
   "source": [
    "The following table shows the survival rates for each combination of passenger class and sex.  \n",
    "**(T3)** Add a column showing the mean **age** for such a combination."
   ]
  },
  {
   "cell_type": "code",
   "execution_count": 23,
   "metadata": {
    "colab": {
     "base_uri": "https://localhost:8080/",
     "height": 269
    },
    "id": "GlukQGgs2aqU",
    "outputId": "bd8f7ad2-9f50-4812-948a-ccc026e7c1db"
   },
   "outputs": [
    {
     "data": {
      "text/html": [
       "<div>\n",
       "<style scoped>\n",
       "    .dataframe tbody tr th:only-of-type {\n",
       "        vertical-align: middle;\n",
       "    }\n",
       "\n",
       "    .dataframe tbody tr th {\n",
       "        vertical-align: top;\n",
       "    }\n",
       "\n",
       "    .dataframe thead th {\n",
       "        text-align: right;\n",
       "    }\n",
       "</style>\n",
       "<table border=\"1\" class=\"dataframe\">\n",
       "  <thead>\n",
       "    <tr style=\"text-align: right;\">\n",
       "      <th></th>\n",
       "      <th></th>\n",
       "      <th>Age</th>\n",
       "      <th>Survived</th>\n",
       "    </tr>\n",
       "    <tr>\n",
       "      <th>Pclass</th>\n",
       "      <th>Sex</th>\n",
       "      <th></th>\n",
       "      <th></th>\n",
       "    </tr>\n",
       "  </thead>\n",
       "  <tbody>\n",
       "    <tr>\n",
       "      <th rowspan=\"2\" valign=\"top\">1</th>\n",
       "      <th>female</th>\n",
       "      <td>34.611765</td>\n",
       "      <td>0.968085</td>\n",
       "    </tr>\n",
       "    <tr>\n",
       "      <th>male</th>\n",
       "      <td>41.281386</td>\n",
       "      <td>0.368852</td>\n",
       "    </tr>\n",
       "    <tr>\n",
       "      <th rowspan=\"2\" valign=\"top\">2</th>\n",
       "      <th>female</th>\n",
       "      <td>28.722973</td>\n",
       "      <td>0.921053</td>\n",
       "    </tr>\n",
       "    <tr>\n",
       "      <th>male</th>\n",
       "      <td>30.740707</td>\n",
       "      <td>0.157407</td>\n",
       "    </tr>\n",
       "    <tr>\n",
       "      <th rowspan=\"2\" valign=\"top\">3</th>\n",
       "      <th>female</th>\n",
       "      <td>21.750000</td>\n",
       "      <td>0.500000</td>\n",
       "    </tr>\n",
       "    <tr>\n",
       "      <th>male</th>\n",
       "      <td>26.507589</td>\n",
       "      <td>0.135447</td>\n",
       "    </tr>\n",
       "  </tbody>\n",
       "</table>\n",
       "</div>"
      ],
      "text/plain": [
       "                     Age  Survived\n",
       "Pclass Sex                        \n",
       "1      female  34.611765  0.968085\n",
       "       male    41.281386  0.368852\n",
       "2      female  28.722973  0.921053\n",
       "       male    30.740707  0.157407\n",
       "3      female  21.750000  0.500000\n",
       "       male    26.507589  0.135447"
      ]
     },
     "execution_count": 23,
     "metadata": {},
     "output_type": "execute_result"
    }
   ],
   "source": [
    "# TODO: Also show the mean age per group\n",
    "pd.pivot_table(train, index=['Pclass', 'Sex'], values=['Age', 'Survived'], aggfunc='mean')"
   ]
  },
  {
   "cell_type": "markdown",
   "metadata": {
    "id": "GQa2WGIPQ5JC"
   },
   "source": [
    "**(T4)** Use [this](https://stackoverflow.com/questions/21441259/pandas-groupby-range-of-values) question on stackoverflow, to find the mean survival rate for ages 0-10, 10-20, etc.).\n",
    "\n",
    "Hint: the first row should roughly look like this:\n",
    ">\t\t\t  \t   Age\tSurvived\n",
    "\tAge\t\t\n",
    "\t(0, 10]\t4.268281\t0.593750"
   ]
  },
  {
   "cell_type": "code",
   "execution_count": 24,
   "metadata": {
    "colab": {
     "base_uri": "https://localhost:8080/",
     "height": 331
    },
    "id": "yVq3VqPH2arc",
    "outputId": "0dcc5c59-a0de-4120-8bac-9d7a64cf0a49"
   },
   "outputs": [
    {
     "data": {
      "text/html": [
       "<div>\n",
       "<style scoped>\n",
       "    .dataframe tbody tr th:only-of-type {\n",
       "        vertical-align: middle;\n",
       "    }\n",
       "\n",
       "    .dataframe tbody tr th {\n",
       "        vertical-align: top;\n",
       "    }\n",
       "\n",
       "    .dataframe thead th {\n",
       "        text-align: right;\n",
       "    }\n",
       "</style>\n",
       "<table border=\"1\" class=\"dataframe\">\n",
       "  <thead>\n",
       "    <tr style=\"text-align: right;\">\n",
       "      <th></th>\n",
       "      <th>Age</th>\n",
       "      <th>Survived</th>\n",
       "    </tr>\n",
       "    <tr>\n",
       "      <th>Age</th>\n",
       "      <th></th>\n",
       "      <th></th>\n",
       "    </tr>\n",
       "  </thead>\n",
       "  <tbody>\n",
       "    <tr>\n",
       "      <th>(0, 10]</th>\n",
       "      <td>4.268281</td>\n",
       "      <td>0.593750</td>\n",
       "    </tr>\n",
       "    <tr>\n",
       "      <th>(10, 20]</th>\n",
       "      <td>17.317391</td>\n",
       "      <td>0.382609</td>\n",
       "    </tr>\n",
       "    <tr>\n",
       "      <th>(20, 30]</th>\n",
       "      <td>25.423913</td>\n",
       "      <td>0.365217</td>\n",
       "    </tr>\n",
       "    <tr>\n",
       "      <th>(30, 40]</th>\n",
       "      <td>35.051613</td>\n",
       "      <td>0.445161</td>\n",
       "    </tr>\n",
       "    <tr>\n",
       "      <th>(40, 50]</th>\n",
       "      <td>45.372093</td>\n",
       "      <td>0.383721</td>\n",
       "    </tr>\n",
       "    <tr>\n",
       "      <th>(50, 60]</th>\n",
       "      <td>54.892857</td>\n",
       "      <td>0.404762</td>\n",
       "    </tr>\n",
       "    <tr>\n",
       "      <th>(60, 70]</th>\n",
       "      <td>63.882353</td>\n",
       "      <td>0.235294</td>\n",
       "    </tr>\n",
       "    <tr>\n",
       "      <th>(70, 80]</th>\n",
       "      <td>73.300000</td>\n",
       "      <td>0.200000</td>\n",
       "    </tr>\n",
       "  </tbody>\n",
       "</table>\n",
       "</div>"
      ],
      "text/plain": [
       "                Age  Survived\n",
       "Age                          \n",
       "(0, 10]    4.268281  0.593750\n",
       "(10, 20]  17.317391  0.382609\n",
       "(20, 30]  25.423913  0.365217\n",
       "(30, 40]  35.051613  0.445161\n",
       "(40, 50]  45.372093  0.383721\n",
       "(50, 60]  54.892857  0.404762\n",
       "(60, 70]  63.882353  0.235294\n",
       "(70, 80]  73.300000  0.200000"
      ]
     },
     "execution_count": 24,
     "metadata": {},
     "output_type": "execute_result"
    }
   ],
   "source": [
    "# TODO: find the mean survival rate per age group\n",
    "ageGroups = np.arange(0, 81, 10)\n",
    "survivalPerAgeGroup = pd.pivot_table(train, index=pd.cut(train.Age, ageGroups), values=['Age', 'Survived'], aggfunc='mean')\n",
    "survivalPerAgeGroup\n"
   ]
  },
  {
   "cell_type": "code",
   "execution_count": 25,
   "metadata": {
    "colab": {
     "base_uri": "https://localhost:8080/"
    },
    "id": "DyyMP7x5yXAn",
    "outputId": "02c91efd-956c-419b-acc4-db8e02aaa3c2"
   },
   "outputs": [
    {
     "data": {
      "text/plain": [
       "pandas.core.series.Series"
      ]
     },
     "execution_count": 25,
     "metadata": {},
     "output_type": "execute_result"
    }
   ],
   "source": [
    "type(train.groupby(pd.cut(train.Age, ageGroups)).Survived.mean())"
   ]
  },
  {
   "cell_type": "markdown",
   "metadata": {
    "id": "2RGfdp3kI6FW"
   },
   "source": [
    "## Filling missing data (data imputation)\n",
    "\n",
    "Note that some passenger do not have age data."
   ]
  },
  {
   "cell_type": "code",
   "execution_count": 26,
   "metadata": {
    "colab": {
     "base_uri": "https://localhost:8080/"
    },
    "id": "_xMMyKw0J5WD",
    "outputId": "394c69db-f73e-42b3-da5f-e957e70e868b"
   },
   "outputs": [
    {
     "name": "stdout",
     "output_type": "stream",
     "text": [
      "177 out of 891 passengers do not have a recorded age\n"
     ]
    }
   ],
   "source": [
    "print(\"{} out of {} passengers do not have a recorded age\".format(df1[df1.Age.isna()].shape[0], df1.shape[0]))"
   ]
  },
  {
   "cell_type": "code",
   "execution_count": 27,
   "metadata": {
    "colab": {
     "base_uri": "https://localhost:8080/",
     "height": 206
    },
    "id": "0kHH8y-KI5Mj",
    "outputId": "e85626bb-bcf5-4185-fc1e-1e875e9ae8a6"
   },
   "outputs": [
    {
     "data": {
      "text/html": [
       "<div>\n",
       "<style scoped>\n",
       "    .dataframe tbody tr th:only-of-type {\n",
       "        vertical-align: middle;\n",
       "    }\n",
       "\n",
       "    .dataframe tbody tr th {\n",
       "        vertical-align: top;\n",
       "    }\n",
       "\n",
       "    .dataframe thead th {\n",
       "        text-align: right;\n",
       "    }\n",
       "</style>\n",
       "<table border=\"1\" class=\"dataframe\">\n",
       "  <thead>\n",
       "    <tr style=\"text-align: right;\">\n",
       "      <th></th>\n",
       "      <th>Name</th>\n",
       "      <th>Sex</th>\n",
       "      <th>Age</th>\n",
       "      <th>Survived</th>\n",
       "    </tr>\n",
       "  </thead>\n",
       "  <tbody>\n",
       "    <tr>\n",
       "      <th>5</th>\n",
       "      <td>Moran, Mr. James</td>\n",
       "      <td>male</td>\n",
       "      <td>NaN</td>\n",
       "      <td>0</td>\n",
       "    </tr>\n",
       "    <tr>\n",
       "      <th>17</th>\n",
       "      <td>Williams, Mr. Charles Eugene</td>\n",
       "      <td>male</td>\n",
       "      <td>NaN</td>\n",
       "      <td>1</td>\n",
       "    </tr>\n",
       "    <tr>\n",
       "      <th>19</th>\n",
       "      <td>Masselmani, Mrs. Fatima</td>\n",
       "      <td>female</td>\n",
       "      <td>NaN</td>\n",
       "      <td>1</td>\n",
       "    </tr>\n",
       "    <tr>\n",
       "      <th>26</th>\n",
       "      <td>Emir, Mr. Farred Chehab</td>\n",
       "      <td>male</td>\n",
       "      <td>NaN</td>\n",
       "      <td>0</td>\n",
       "    </tr>\n",
       "    <tr>\n",
       "      <th>28</th>\n",
       "      <td>O'Dwyer, Miss. Ellen \"Nellie\"</td>\n",
       "      <td>female</td>\n",
       "      <td>NaN</td>\n",
       "      <td>1</td>\n",
       "    </tr>\n",
       "  </tbody>\n",
       "</table>\n",
       "</div>"
      ],
      "text/plain": [
       "                             Name     Sex  Age  Survived\n",
       "5                Moran, Mr. James    male  NaN         0\n",
       "17   Williams, Mr. Charles Eugene    male  NaN         1\n",
       "19        Masselmani, Mrs. Fatima  female  NaN         1\n",
       "26        Emir, Mr. Farred Chehab    male  NaN         0\n",
       "28  O'Dwyer, Miss. Ellen \"Nellie\"  female  NaN         1"
      ]
     },
     "execution_count": 27,
     "metadata": {},
     "output_type": "execute_result"
    }
   ],
   "source": [
    "df1[df1.Age.isna()].head()"
   ]
  },
  {
   "cell_type": "markdown",
   "metadata": {
    "id": "iBtPxzIYaqfj"
   },
   "source": [
    "Let's see the statistics of the column **before** the imputation."
   ]
  },
  {
   "cell_type": "code",
   "execution_count": 28,
   "metadata": {
    "colab": {
     "base_uri": "https://localhost:8080/"
    },
    "id": "6bAcSvJnZ8tH",
    "outputId": "085a0f67-8221-402d-8cf4-adfeeac0013a"
   },
   "outputs": [
    {
     "data": {
      "text/plain": [
       "count    714.000000\n",
       "mean      29.699118\n",
       "std       14.526497\n",
       "min        0.420000\n",
       "25%       20.125000\n",
       "50%       28.000000\n",
       "75%       38.000000\n",
       "max       80.000000\n",
       "Name: Age, dtype: float64"
      ]
     },
     "execution_count": 28,
     "metadata": {},
     "output_type": "execute_result"
    }
   ],
   "source": [
    "df1.Age.describe()"
   ]
  },
  {
   "cell_type": "markdown",
   "metadata": {
    "id": "m_5jWdkGKmo6"
   },
   "source": [
    "Read about [`pandas.Series.fillna`](https://pandas.pydata.org/pandas-docs/stable/reference/api/pandas.Series.fillna.html?highlight=fillna#pandas.Series.fillna).  \n",
    " **(T5)** Replace the missing ages `df1` with the general age *median*, and insert the result into variable `filledDf` (the original `df1` should be left unchanged)."
   ]
  },
  {
   "cell_type": "code",
   "execution_count": 29,
   "metadata": {
    "id": "V_JXxB-9I5OX"
   },
   "outputs": [],
   "source": [
    "# TODO : Fill the missing values\n",
    "filledDf = df1.copy()\n",
    "filledDf.Age = df1.Age.fillna(df1.Age.mean())"
   ]
  },
  {
   "cell_type": "code",
   "execution_count": 30,
   "metadata": {
    "colab": {
     "base_uri": "https://localhost:8080/"
    },
    "id": "uvoV8S1eKMtU",
    "outputId": "5bbcc132-ce93-4aac-be58-20d58593b2bb"
   },
   "outputs": [
    {
     "name": "stdout",
     "output_type": "stream",
     "text": [
      "0 out of 891 passengers do not have a recorded age\n"
     ]
    }
   ],
   "source": [
    "print(\"{} out of {} passengers do not have a recorded age\".format(filledDf[filledDf.Age.isna()].shape[0], filledDf.shape[0]))"
   ]
  },
  {
   "cell_type": "markdown",
   "metadata": {
    "id": "5dBIJckKbFoz"
   },
   "source": [
    "Let's see the statistics of the column **after** the imputation."
   ]
  },
  {
   "cell_type": "code",
   "execution_count": 31,
   "metadata": {
    "colab": {
     "base_uri": "https://localhost:8080/"
    },
    "id": "7ruT3GwSbTLY",
    "outputId": "1198f530-4aa9-45c8-e82b-c4cb56b6aa32"
   },
   "outputs": [
    {
     "data": {
      "text/plain": [
       "count    891.000000\n",
       "mean      29.699118\n",
       "std       13.002015\n",
       "min        0.420000\n",
       "25%       22.000000\n",
       "50%       29.699118\n",
       "75%       35.000000\n",
       "max       80.000000\n",
       "Name: Age, dtype: float64"
      ]
     },
     "execution_count": 31,
     "metadata": {},
     "output_type": "execute_result"
    }
   ],
   "source": [
    "filledDf.Age.describe()"
   ]
  },
  {
   "cell_type": "markdown",
   "metadata": {
    "id": "1pQsWKpDezGi"
   },
   "source": [
    " **(T6)** Answer below: which statistics changed, and which did not? Why? (explain briefly, no need to be very formal.)"
   ]
  },
  {
   "attachments": {},
   "cell_type": "markdown",
   "metadata": {
    "id": "yVOgSFVRe7cu"
   },
   "source": [
    "**Answer:** TODO\n",
    "1. The \"count\" statistic changed since we filled the missing values with real values.\n",
    "2. The \"mean\" statistic is unchanced because the values we added were exactly the \"previous\" mean, so the we didn't change the overall mean.\n",
    "3. The standard deviation decreased since we added more \"mass\" around (spot on) the mean, and as we recall the STD is a measure of deviations from the mean.\n",
    "4. \"min\", \"max\" didn't change since the mean (the only values that we changed) is somewhere inside [min, max].\n",
    "5. \"Q1\", \"Q2\", \"Q3\" changed in the following way:\n",
    "        \"Q1\" increased - meaning that the mean is valued at above Q1.\n",
    "        \"Q2\" increased - same thing.\n",
    "        \"Q3\" decreased - meaning that the mean is somewhere in between Q2 and Q3."
   ]
  },
  {
   "cell_type": "markdown",
   "metadata": {
    "id": "Op064-8s2aqW"
   },
   "source": [
    "## Plotting\n",
    "Basic plotting in pandas is pretty straightforward"
   ]
  },
  {
   "cell_type": "code",
   "execution_count": 32,
   "metadata": {
    "colab": {
     "base_uri": "https://localhost:8080/",
     "height": 389
    },
    "id": "a8AONyPK2aqY",
    "outputId": "494cefb5-b53c-4f19-d5b5-783a7159b9f4"
   },
   "outputs": [
    {
     "data": {
      "image/png": "[encoded data removed]",
      "text/plain": [
       "<Figure size 1000x600 with 1 Axes>"
      ]
     },
     "metadata": {},
     "output_type": "display_data"
    }
   ],
   "source": [
    "new_plot = pd.crosstab([train.Pclass, train.Sex], train.Survived, normalize=\"index\")\n",
    "new_plot.plot(kind='bar', stacked=True, grid=False, figsize=(10,6))\n",
    "plt.yticks(np.linspace(0,1,21))\n",
    "plt.grid()"
   ]
  },
  {
   "cell_type": "markdown",
   "metadata": {
    "id": "EwMXqkhpfN3d"
   },
   "source": [
    " **(T7)** Answer below: which group (class $\\times$ sex) had the best survival rate? Which had the worst?"
   ]
  },
  {
   "attachments": {},
   "cell_type": "markdown",
   "metadata": {
    "id": "eEinRYOXfOrY"
   },
   "source": [
    "**Answer:** (1, female) had the best survival rate. (3, male) had the worst."
   ]
  },
  {
   "cell_type": "markdown",
   "metadata": {
    "id": "uJGeuhhV2aqi"
   },
   "source": [
    "# What is Matplotlib\n",
    "\n",
    "A 2D plotting library which produces publication quality figures.\n",
    " - Can be used in python scripts, the python and IPython shell, web application servers, and more …\n",
    " - Can be used to generate plots, histograms, power spectra, bar charts, errorcharts, scatterplots, etc.\n",
    " - For simple plotting, pyplot provides a MATLAB-like interface \n",
    " - For power users, a full control via OO interface or via a set of functions\n",
    "\n",
    "There are several Matplotlib add-on toolkits\n",
    " - Projection and mapping toolkits [basemap](http://matplotlib.org/basemap/) and [cartopy](http://scitools.org.uk/cartopy/).\n",
    " - Interactive plots in web browsers using [Bokeh](http://bokeh.pydata.org/en/latest/).\n",
    " - Higher level interface with updated visualizations [Seaborn](http://seaborn.pydata.org/index.html).\n",
    "\n",
    "Matplotlib is available at [www.matplotlib.org](www.matplotlib.org)"
   ]
  },
  {
   "cell_type": "code",
   "execution_count": 33,
   "metadata": {
    "id": "Y0ixhvQS2aql"
   },
   "outputs": [],
   "source": [
    "import matplotlib.pyplot as plt\n",
    "import numpy as np"
   ]
  },
  {
   "cell_type": "markdown",
   "metadata": {
    "id": "JU4i6qIk2aqj"
   },
   "source": [
    "## Line Plots"
   ]
  },
  {
   "cell_type": "markdown",
   "metadata": {
    "id": "-2Bc8EAPS5ZR"
   },
   "source": [
    "The following code plots the survival rate per age group (computed above, before the imputation).\n",
    "\n",
    " **(T8)** Use the [matplotlib documentation](https://matplotlib.org/) to add a grid and suitable axis labels to the following plot."
   ]
  },
  {
   "cell_type": "code",
   "execution_count": 34,
   "metadata": {
    "colab": {
     "base_uri": "https://localhost:8080/",
     "height": 313
    },
    "id": "cSCDtmYzSUmb",
    "outputId": "c97f4d13-9d8e-41a3-e18d-88288bc8efc3"
   },
   "outputs": [
    {
     "data": {
      "image/png": "[encoded data removed]",
      "text/plain": [
       "<Figure size 640x480 with 1 Axes>"
      ]
     },
     "metadata": {},
     "output_type": "display_data"
    }
   ],
   "source": [
    "plt.plot(survivalPerAgeGroup.Age, survivalPerAgeGroup.Survived)\n",
    "_ = plt.title(\"Survival per age group\")\n",
    "# TODO : Update the plot as required.\n",
    "plt.xlabel(\"Age\")\n",
    "plt.ylabel(\"Survival rate\")\n",
    "plt.grid()\n",
    "plt.show()"
   ]
  },
  {
   "cell_type": "code",
   "execution_count": 35,
   "metadata": {
    "colab": {
     "base_uri": "https://localhost:8080/",
     "height": 331
    },
    "id": "Fg5nb_8Pw_1i",
    "outputId": "8c0f2237-78f8-4e93-de33-c2bc20f39420"
   },
   "outputs": [
    {
     "data": {
      "text/html": [
       "<div>\n",
       "<style scoped>\n",
       "    .dataframe tbody tr th:only-of-type {\n",
       "        vertical-align: middle;\n",
       "    }\n",
       "\n",
       "    .dataframe tbody tr th {\n",
       "        vertical-align: top;\n",
       "    }\n",
       "\n",
       "    .dataframe thead th {\n",
       "        text-align: right;\n",
       "    }\n",
       "</style>\n",
       "<table border=\"1\" class=\"dataframe\">\n",
       "  <thead>\n",
       "    <tr style=\"text-align: right;\">\n",
       "      <th></th>\n",
       "      <th>Age</th>\n",
       "      <th>Survived</th>\n",
       "    </tr>\n",
       "    <tr>\n",
       "      <th>Age</th>\n",
       "      <th></th>\n",
       "      <th></th>\n",
       "    </tr>\n",
       "  </thead>\n",
       "  <tbody>\n",
       "    <tr>\n",
       "      <th>(0, 10]</th>\n",
       "      <td>4.268281</td>\n",
       "      <td>0.593750</td>\n",
       "    </tr>\n",
       "    <tr>\n",
       "      <th>(10, 20]</th>\n",
       "      <td>17.317391</td>\n",
       "      <td>0.382609</td>\n",
       "    </tr>\n",
       "    <tr>\n",
       "      <th>(20, 30]</th>\n",
       "      <td>25.423913</td>\n",
       "      <td>0.365217</td>\n",
       "    </tr>\n",
       "    <tr>\n",
       "      <th>(30, 40]</th>\n",
       "      <td>35.051613</td>\n",
       "      <td>0.445161</td>\n",
       "    </tr>\n",
       "    <tr>\n",
       "      <th>(40, 50]</th>\n",
       "      <td>45.372093</td>\n",
       "      <td>0.383721</td>\n",
       "    </tr>\n",
       "    <tr>\n",
       "      <th>(50, 60]</th>\n",
       "      <td>54.892857</td>\n",
       "      <td>0.404762</td>\n",
       "    </tr>\n",
       "    <tr>\n",
       "      <th>(60, 70]</th>\n",
       "      <td>63.882353</td>\n",
       "      <td>0.235294</td>\n",
       "    </tr>\n",
       "    <tr>\n",
       "      <th>(70, 80]</th>\n",
       "      <td>73.300000</td>\n",
       "      <td>0.200000</td>\n",
       "    </tr>\n",
       "  </tbody>\n",
       "</table>\n",
       "</div>"
      ],
      "text/plain": [
       "                Age  Survived\n",
       "Age                          \n",
       "(0, 10]    4.268281  0.593750\n",
       "(10, 20]  17.317391  0.382609\n",
       "(20, 30]  25.423913  0.365217\n",
       "(30, 40]  35.051613  0.445161\n",
       "(40, 50]  45.372093  0.383721\n",
       "(50, 60]  54.892857  0.404762\n",
       "(60, 70]  63.882353  0.235294\n",
       "(70, 80]  73.300000  0.200000"
      ]
     },
     "execution_count": 35,
     "metadata": {},
     "output_type": "execute_result"
    }
   ],
   "source": [
    "survivalPerAgeGroup"
   ]
  },
  {
   "cell_type": "markdown",
   "metadata": {
    "id": "HOfPan8W2arb"
   },
   "source": [
    "\n",
    "## Scatter plots"
   ]
  },
  {
   "cell_type": "markdown",
   "metadata": {
    "id": "txMG5DT7U_nP"
   },
   "source": [
    " **(T9)** Alter the [matplotlib.pyplot.scatter](https://matplotlib.org/stable/api/_as_gen/matplotlib.pyplot.scatter.html) command, so that the scattered dots will be `green`, and their size will be `10`.\n",
    "\n",
    "Also, add a grid and suitable axis labels."
   ]
  },
  {
   "cell_type": "code",
   "execution_count": 36,
   "metadata": {
    "colab": {
     "base_uri": "https://localhost:8080/",
     "height": 342
    },
    "id": "oMOAxO1aR-VX",
    "outputId": "b484a8e2-5a56-48b9-c2df-8cd1e0c912d8"
   },
   "outputs": [
    {
     "data": {
      "image/png": "[encoded data removed]",
      "text/plain": [
       "<Figure size 1000x600 with 1 Axes>"
      ]
     },
     "metadata": {},
     "output_type": "display_data"
    }
   ],
   "source": [
    "# TODO : Update the plot as required.\n",
    "plt.figure(figsize=(10,6))\n",
    "plt.scatter(train.Age, train.Fare, c='g', s=10)\n",
    "plt.xlabel(\"Age\")\n",
    "plt.ylabel(\"Fare\")\n",
    "plt.grid()\n",
    "plt.show()"
   ]
  },
  {
   "cell_type": "markdown",
   "metadata": {
    "id": "Xd6iimntjGkF"
   },
   "source": [
    "**(T10)** Answer below: approximately how old are the two highest paying passengers?"
   ]
  },
  {
   "attachments": {},
   "cell_type": "markdown",
   "metadata": {
    "id": "AMaNCCOu27uA"
   },
   "source": [
    "**Answer:** around 34-36"
   ]
  },
  {
   "attachments": {},
   "cell_type": "markdown",
   "metadata": {
    "id": "V_zTkaWys3GH"
   },
   "source": [
    "----\n",
    "\n",
    "# Probability refresher\n",
    "\n",
    "## Q1 - Variance of empirical mean\n",
    "\n",
    "Let $X_1, \\dots, X_m$ be i.i.d random variables with mean $\\mathbb{E}\\left[X_i\\right]=\\mu$ and variance $\\text{Var}\\left(X_i \\right)=\\sigma^2$.  \n",
    "We would like to \"guess\", or more formally, estimate (לְשַׁעֲרֵךְ), the mean $\\mu$ from the observations $x_1,\\dots,x_m$.  \n",
    "We use the empirical mean $\\overline{X} = \\frac{1}{m}\\sum_i X_i$ as an estimator for the unknown mean $\\mu$. Notice that $\\overline{X}$ is itself a random variable.  \n",
    "**Note:** The instantiation of  $\\overline{X}$ is usually denoted by $\\hat{\\mu}=\\frac{1}{m}\\sum_i x_i$, but this is currently out of scope.\n",
    "\n",
    "1.   Express analytically the expectation of $\\overline{X}$.  \n",
    "     **Answer**: $\\mathbb{E}\\left[\\overline{X} \\right]=\n",
    "     \\mathbb{E}\\left[\\frac{1}{m}\\sum_i X_i \\right]=\n",
    "     \\mathbb{E}\\left[\\overline{X}\\right]=\\mathbb{E}\\left[\\frac{1}{m}\\sum_{i}X_{i}\\right]\\underset{linearity\\,of\\,expectation}{=}\\frac{1}{m}\\sum_{i}\\mathbb{E}\\left[X_{i}\\right]\\underset{i.i.d}{=}\\frac{1}{m}m\\mu=\\mu$\n",
    "     \n",
    "2.   Express analytically the variance of $\\overline{X}$.  \n",
    "     **Answer**: $\\text{Var}\\left[\\overline{X}\\right]=\\text{Var}\\left[\\frac{1}{m}\\sum_{i}X_{i}\\right]\\underset{variance\\,rules\\,}{=}\\frac{1}{m^{2}}\\text{Var}\\left[\\sum_{i}X_{i}\\right]\\underset{independence}{=}\\frac{1}{m^{2}}\\sum_{i}\\text{Var}\\left[X_{i}\\right]\\underset{identically\\,distributed}{=}\\frac{1}{m^{2}}\\sum_{i}\\sigma^{2}=\\frac{\\sigma^{2}}{m}$\n",
    "\n",
    "You will now verify the expression you wrote for the variance.  \n",
    "We assume $\\forall i: X_i\\sim\\mathcal{N}\\left(0, 1\\right)$.  \n",
    "We compute the empirical mean's variances for sample sizes $m=1,\\dots,35$.  \n",
    "For each sample size $m$, we sample $m$ normal variables and compute their empirical mean. We repeat this step $50$ times, and compute the variance of the empirical means (for each $m$).\n",
    "\n",
    "3.   Complete the code blocks below according to the instructions and verify that your analytic function of the empirical mean's variance against as a function of $m$ suits the empirical findings.\n"
   ]
  },
  {
   "cell_type": "code",
   "execution_count": 37,
   "metadata": {
    "id": "xiGAh0j-Ks0R"
   },
   "outputs": [],
   "source": [
    "all_sample_sizes = range(1, 36)\n",
    "repeats_per_size = 50\n",
    "\n",
    "allVariances = []\n",
    "\n",
    "for m in all_sample_sizes:\n",
    "  empiricalMeans = []\n",
    "  \n",
    "  for _ in range(repeats_per_size):\n",
    "    # Random m examples and compute their empirical mean\n",
    "    X = np.random.randn(m)\n",
    "    empiricalMeans.append(np.mean(X))\n",
    "\n",
    "  # TODO: Using numpy, compute the variance of the empirical means that are in \n",
    "  # the `empiricalMeans` list (you can google the numpy function for variance)\n",
    "  variance = np.var(empiricalMeans)\n",
    "  \n",
    "  allVariances.append(variance)"
   ]
  },
  {
   "cell_type": "markdown",
   "metadata": {
    "id": "lm3DEBs_VsqD"
   },
   "source": [
    "Complete the following computation of the anayltic variance (according to the your answers above).\n",
    "You can try to use simple arithmetic operations between an `np.array` and a scalar, and see what happens! (for instance, `2 * np.array(all_sample_sizes)`.)"
   ]
  },
  {
   "cell_type": "code",
   "execution_count": 38,
   "metadata": {
    "id": "5LuqLzIHN-6i"
   },
   "outputs": [],
   "source": [
    "# TODO: compute the analytic variance \n",
    "# (the current command wrongfully sets the variance of an empirical mean \n",
    "#  of a sample with m variables simply as 2*m)\n",
    "\n",
    "# Normal distrubution with mean 0 and variance 1, so the variance of the empirical mean is 1/m for each m\n",
    "analyticVariance = 1/np.array(all_sample_sizes)"
   ]
  },
  {
   "cell_type": "markdown",
   "metadata": {
    "id": "Ux0beQNZWHQL"
   },
   "source": [
    "The following code plots the results from the above code. **Do not** edit it, only run it and make sure that the figures make sense."
   ]
  },
  {
   "cell_type": "code",
   "execution_count": 39,
   "metadata": {
    "colab": {
     "base_uri": "https://localhost:8080/"
    },
    "id": "1zM2cnVvL18Z",
    "outputId": "14d26184-cd9f-4a70-f3f5-5e20543dad10"
   },
   "outputs": [
    {
     "data": {
      "image/png": "[encoded data removed]",
      "text/plain": [
       "<Figure size 1500x500 with 2 Axes>"
      ]
     },
     "metadata": {},
     "output_type": "display_data"
    }
   ],
   "source": [
    "fig, axes = plt.subplots(1,2, figsize=(15,5))\n",
    "axes[0].plot(all_sample_sizes, analyticVariance, label=\"Analytic\", linewidth=4)\n",
    "axes[0].plot(all_sample_sizes, allVariances, label=\"Empiric\", linewidth=3)\n",
    "axes[0].grid()\n",
    "axes[0].legend(fontsize=14)\n",
    "axes[0].set_title(\"Regular scale\", fontsize=14)\n",
    "axes[0].set_xlabel(\"Sample size (m)\", fontsize=12)\n",
    "axes[0].set_ylabel(\"Variance\", fontsize=12)\n",
    "\n",
    "axes[1].semilogy(all_sample_sizes, analyticVariance, label=\"Analytic\", linewidth=4)\n",
    "axes[1].semilogy(all_sample_sizes, allVariances, label=\"Empiric\", linewidth=3)\n",
    "axes[1].grid()\n",
    "axes[1].legend(fontsize=14)\n",
    "axes[1].set_title(\"Log scale\", fontsize=14)\n",
    "axes[1].set_xlabel(\"Sample size (m)\", fontsize=12)\n",
    "axes[1].set_ylabel(\"Variance\", fontsize=12)\n",
    "\n",
    "_ = plt.suptitle(\"Empirical mean's variance vs. Sample size\", \n",
    "             fontsize=16, fontweight=\"bold\")\n",
    "\n",
    "plt.tight_layout()"
   ]
  },
  {
   "cell_type": "markdown",
   "metadata": {
    "id": "4e1sVgZXXwWu"
   },
   "source": [
    "----\n",
    "\n",
    "## Reminder - Hoeffding's Inequality\n",
    "Let $\\theta_1, \\dots, \\theta_m$ be i.i.d random variables with mean $\\mathbb{E}\\left[\\theta_i\\right]=\\mu$.\n",
    "\n",
    "Additionally, assume all variables are bound in $\\left[a,b\\right]$ such that $\\Pr\\left[a\\le \\theta_i \\le b\\right] = 1$.\n",
    "\n",
    "Then, for any $\\epsilon > 0$,\n",
    "the empirical mean \n",
    "$\\overline{\\theta}(m) = \\frac{1}{m}\\sum_i \\theta_i$ \n",
    "holds:\n",
    "$$\\Pr\\left[\\left| \\overline{\\theta}(m) -\\mu \\right| > \\epsilon\\right] \n",
    "\\le \n",
    "2\\exp\\left\\{-\\frac{2m\\epsilon^2}{\\left(b-a\\right)^2}\\right\\}~.$$\n",
    "\n",
    "\n",
    "----\n",
    "\n",
    "\n",
    "## Q2 - Identical coins and the Hoeffding bound\n",
    "We toss $m\\in\\mathbb{N}$ identical coins, each coin $50$ times.  \n",
    "All coins have the same *unknown* probability of showing \"heads\", denoted by $𝑝 ∈ (0,1)$.  \n",
    "Let $\\theta_𝑖$ be the (observed) number of times the $i$-th coin showed \"heads\".  \n"
   ]
  },
  {
   "attachments": {},
   "cell_type": "markdown",
   "metadata": {
    "id": "O7N-MbZP9D_-"
   },
   "source": [
    "1.   What is the distribution of each $\\theta_𝑖$?    \n",
    "     **Answer:** $\\theta_{i}\\text{ is the number of successes of bernoulli random variable with parameter p, out of 50 tries. Therefore}\\,\\theta_{i}\\sim Bin\\left(50,p\\right)$\n",
    "  \n",
    "2.   What is the mean $\\mu =E \\left[ \\theta_{i} \\right]$?  \n",
    "  **Answer:** $E[\\theta_{i}] = 50p$.\n",
    "  \n",
    "3.   We would like to use the empirical mean defined above as an estimator $\\overline{\\theta}(m)$ for $\\mu$.  \n",
    "Use Hoeffding’s inequality to compute the *smallest* sample size $m\\in\\mathbb{N}$\n",
    "that can guarantee an error of $\\epsilon=1$ with\n",
    "confidence $0.99$\n",
    "(notice that we wish to estimate $\\mu$, not $p$).  \n",
    "That is, find the smallest $m$ that holds \n",
    "$\\Pr\\left[\\left| \\overline{\\theta}(m)-\\mu \\right| > 1 \\right] \\le 0.01$.  \n",
    "   **Answer:**  \n",
    "   $\\text{using Hoeffding's inequality we get}:$\n",
    "   $\\\\$\n",
    "   $\\Pr\\left[\\left|\\overline{\\theta}(m)-\\mu\\right|>1\\right]{\\le2exp\\left\\{ -\\frac{2m\\cdot1^{2}}{\\left(50-0\\right)^{2}}\\right\\} \\underset{set}{\\leq}0.01}$\n",
    "   $\\\\$\n",
    "   ${ -\\frac{2m}{2500}} \\leq \\ln{0.005}$\n",
    "   $\\\\$\n",
    "   $m\\geq { -\\frac{2500\\cdot\\ln{0.005}}{2}} = 6622.9$\n",
    "   $\\\\$\n",
    "   $\\text{Therefore, the minimal m is 6623}$"
   ]
  },
  {
   "cell_type": "markdown",
   "metadata": {
    "id": "7iKJfOKkk5wC"
   },
   "source": [
    "4. The following code simulates tossing $m=10^4$ coins, each $50$ times. \n",
    "For each coin, we use the empirical mean as the estimator and save it in the `all_estimators` array. The (unknown) probability of each coin is $0.65$.  \n",
    "Complete the missing part so that for each coin, an array of $50$ binary `observations` will be randomized according to the probability $p$."
   ]
  },
  {
   "cell_type": "code",
   "execution_count": 40,
   "metadata": {
    "id": "7dTNn2yabsI8"
   },
   "outputs": [],
   "source": [
    "m = 10**4\n",
    "tosses = 50\n",
    "p = 0.65\n",
    "all_estimators = []\n",
    "\n",
    "# Repeat for n coins\n",
    "for coin in range(m):\n",
    "  # TODO: Use Google to find a suitable numpy.random function that creates \n",
    "  # a binary array of size (tosses,), where each element is 1 \n",
    "  # with probability p, and 0 with probability (1-p).\n",
    "\n",
    "  # a bernoulli distribution is a binomial distribution with n=1. therefore we can use random.binomial\n",
    "  # to generate a bernoulli distribution for each index in the array\n",
    "  observations = np.random.binomial(1, p, tosses)\n",
    "\n",
    "  # Compute and save the empirical mean\n",
    "  estimator = np.mean(observations)\n",
    "  all_estimators.append(estimator)"
   ]
  },
  {
   "attachments": {},
   "cell_type": "markdown",
   "metadata": {
    "id": "x5zNKioX7Jsm"
   },
   "source": [
    "5.  The following code plots the histogram of the estimators (empirical means). Run it. What type of distribution is obtained (no need to specify the exact paramters of the distribution)? Explain **briefly** what theorem from probability explains this behavior (and why).  \n",
    "\n",
    "\n",
    "  **Answer:** The distribution that is obtained is a Gaussian. The CLT (central limit theorem) explains this behaivor. It does so because practically what we're doing is looking at a large sample size of i.i.d bernoulli distributed samples with parameter p, and averaging over the results. We know from CLT that as the number of samples approaches infinity, the estimator approaches a Gaussian with mean p (0.65), and that's what we see in the histogram."
   ]
  },
  {
   "cell_type": "code",
   "execution_count": 41,
   "metadata": {
    "colab": {
     "base_uri": "https://localhost:8080/",
     "height": 265
    },
    "id": "TfZb4dbFb7mN",
    "outputId": "101fb7eb-6e5c-4a08-af8e-d8bbd3d8d05b"
   },
   "outputs": [
    {
     "data": {
      "image/png": "[encoded data removed]",
      "text/plain": [
       "<Figure size 640x480 with 1 Axes>"
      ]
     },
     "metadata": {},
     "output_type": "display_data"
    }
   ],
   "source": [
    "import seaborn as sns\n",
    "sns.histplot(all_estimators, bins=tosses, kde=True)\n",
    "plt.grid()"
   ]
  },
  {
   "attachments": {},
   "cell_type": "markdown",
   "metadata": {
    "id": "D3y1WBQL-egt"
   },
   "source": [
    "----\n",
    "## Numerical linear algebera refresher\n",
    "\n",
    "## Reminder - Positive semi-definite matrices\n",
    "\n",
    "A symmetric real matrix $A\\in\\mathbb{R}^{n \\times n}$ is called positive semi-definite (PSD) iff:\n",
    "$\\forall x\\in\\mathbb{R}^n \\setminus{\\left\\{0_n\\right\\}}: x^\\top A x \\ge 0.$\n",
    "If the matrix holds the above inequality *strictly*, the matrix is called positive definite (PD).\n",
    "\n",
    "## Q3 - PSD matrices\n",
    "1. Let $A\\succ\\mathbf{0}_{n \\times n}$ be a symmetric PD matrix in $\\mathbb{R}^{n\\times n}$.  \n",
    "Recall that all eigenvalues of real symmetric matrices are real.  \n",
    "Prove that all the eigenvalues of $A$ are strictly positive.  \n",
    "  **Answer:**  \n",
    "    We know from the spectral decomposition that any symmetric real values matrix is orthogonally diagonalizable.\n",
    "    $\\text{Suppose a spectral decomposition of }A,\\text{ with }\\{ e_{i},\\lambda_{i}\\}_{i=1}^{n} \\text{ being the eigenvectors and eigenvalues, respectively.}$\n",
    "    $\\forall i \\in [n] :$\n",
    "    $e_{i}^{T} A e_{i} = \\lambda_{i} e_{i}^{T} e_{i} = \\lambda_{i} \\left|\\left|e_{i}\\right|\\right|_{2}^{2}.$ From positivity of A we conclude that $\\lambda_{i} > 0$\n",
    "\n",
    "2. Let $A,B\\in\\mathbb{R}^{n \\times n}$ be two symmetric PSD matrices.  \n",
    "Prove or refute: the matrix $(2A-B)$ is also PSD.  \n",
    "  **Answer:**  \n",
    "  $Wrong!\\\\Let\\,A=I_{n},\\,B=5\\cdot I_{n}.\\\\Show\\,that\\,A,B>0:$\n",
    "  $\\\\$\n",
    "  $\\forall x\\in R^{n}\\backslash\\left\\{ 0\\right\\} ,x^{T}Ax=x^{T}x=\\left|\\left|x\\right|\\right|_{2}^{2}>0$\n",
    "  $\\\\$\n",
    "  $\\forall x\\in R^{n}\\backslash\\left\\{ 0\\right\\} ,\\,x^{T}Bx=x^{T}5x=5\\left|\\left|x\\right|\\right|_{x}^{2}>0\\\\But\\,\\,2A-B=-3I_{n},\\,and\\,\\left(e_{1}^{n}\\right)^{T}\\left(-3I_{n}\\right)e_{1}^{n}=-3<0\\Rightarrow2A-B\\,isn't\\,\\,PSD$"
   ]
  },
  {
   "attachments": {},
   "cell_type": "markdown",
   "metadata": {
    "id": "rAVuS_XTQQjz"
   },
   "source": [
    "## Q4 - Gradients\n",
    "\n",
    "Define $f:\\mathbb{R}^{d}\\to\\mathbb{R}$, where $f(w)=w^\\top x + b$, for some vector $x\\in\\mathbb{R}^{d}$ and a scalar $b\\in\\mathbb{R}$.\n",
    "\n",
    "Recall: the gradient vector is defined as \n",
    "$\\nabla_w f=\\left[\\frac{\\partial f}{\\partial w_1},\\dots,\\frac{\\partial f}{\\partial w_d}\\right]^\\top \\in \\mathbb{R}^d$.\n",
    "1. Prove that $\\nabla_w f = x$.\n",
    "$w=\\left(\\begin{matrix}w_{1} & w_{2} & ,..., & w_{d}\\end{matrix}\\right)^{T},x=\\left(\\begin{matrix}x_{1} & x_{2} & ,..., & x_{d}\\end{matrix}\\right)^{T}$\n",
    "$\\\\$\n",
    "$\\Rightarrow f\\left(w\\right)=w^{T}x+b=w_{1}x_{1}+w_{2}x_{2}+..+w_{d}x_{d}+b\\\\\\Rightarrow\\frac{\\partial f}{\\partial w_{i}}=x_{i}$\n",
    "$\\\\$\n",
    "$\\Rightarrow\\nabla_{w}f=\\left[\\begin{matrix}\\frac{\\partial f}{\\partial w_{1}} & ,..., & \\frac{\\partial f}{\\partial w_{d}}\\end{matrix}\\right]^{T}=\\left[\\begin{matrix}x_{1} & ,..., & x_{d}\\end{matrix}\\right]^{T}=x$\n",
    "\n",
    "Recall/read the definition of the [Hessian matrix](https://en.wikipedia.org/wiki/Hessian_matrix#Definitions_and_properties) $\\nabla_w^2 f \\in \\mathbb{R}^{d\\times d}$.\n",
    "2. Find the Hessian matrix $\\nabla_w^2 f$ of the function $f$ defined in this question.\n",
    "3. Is the matrix you found positive semi-definite? Explain. $\\\\$\n",
    "To calculate the Hessian matrix, we will calculate each index independently:\n",
    "$\\\\$\n",
    "$\\left(\\nabla_{w}^{2}f\\right)_{i,j}=\\frac{\\partial f}{\\partial w_{i}\\partial w_{j}}=\\frac{\\partial}{\\partial w_{i}}\\left(\\frac{\\partial f}{\\partial w_{j}}\\right)=\\frac{\\partial}{\\partial w_{i}}x_{j}=0\\\\$\n",
    "From that we conclude that the hessian matrix is 0. it is PSD, since for every vector $x$ $\\in R$, $x^{T}\\cdot 0 \\cdot x=0\\geq 0$\n",
    "\n",
    "\n",
    "Now, define $g:\\mathbb{R}^{d}\\to\\mathbb{R}$, \n",
    "where $\\lambda>0$ and $g(w)=\\lambda\\left\\Vert w \\right\\Vert^2$.\n",
    "\n",
    "4. Find the gradient vector $\\nabla_w g$.\n",
    "5. Find the Hessian matrix $\\nabla_w^2 g$.\n",
    "6. Is the matrix you found positive semi-definite? is it positive definite? Explain."
   ]
  },
  {
   "attachments": {},
   "cell_type": "markdown",
   "metadata": {
    "id": "ZIrPlqqVUspr"
   },
   "source": [
    "**Answers:** \n",
    "\n",
    "Write $w = (w_{1} ,..., w_{d})^{T}.$ so we get $g(w) = \\lambda w^{T}w = \\lambda (w_{1} ,..., w_{d}) (w_{1} ,..., w_{d})^{T} = \\lambda (w_{1}^{2} + ... + w_{d}^{2})$\n",
    "$\\\\$\n",
    "$\\Rightarrow \\nabla_{w} g = [\\frac{\\partial g}{\\partial w_{1}} ,..., \\frac{\\partial g}{\\partial w_{d}}]=[2 \\lambda w_{1} ,..., 2 \\lambda w_{d}].$\n",
    "We can easily see that for the second derivatives, the diagonal of the hessian is 2 \\lambda and the rest are zeros. That's because every element not in the diagonal calculates the derivative of a \"constant\" (in respect to the respective variable).\n",
    "$\\\\$\n",
    "We conclude that $\\nabla_{w}^{2} g = 2 I_{d}$\n",
    "$\\\\$\n",
    "It is PD because for every non-zero vector $x\\in R^{d} \\,we\\,get \\,\\,x^{T}\\nabla_{w}^{2} g x = 2 x^{T}x = 2 \\left|\\left|x\\right|\\right|_{2}^{2}>0$\n",
    "$\\\\$\n",
    "We know that every PD matrix is PSD so it is also PSD.\n"
   ]
  }
 ],
 "metadata": {
  "colab": {
   "collapsed_sections": [],
   "name": "Short_HW1 - Solution.ipynb",
   "provenance": []
  },
  "kernelspec": {
   "display_name": "Python 3",
   "language": "python",
   "name": "python3"
  },
  "language_info": {
   "codemirror_mode": {
    "name": "ipython",
    "version": 3
   },
   "file_extension": ".py",
   "mimetype": "text/x-python",
   "name": "python",
   "nbconvert_exporter": "python",
   "pygments_lexer": "ipython3",
   "version": "3.10.6"
  }
 },
 "nbformat": 4,
 "nbformat_minor": 1
}
